{
 "cells": [
  {
   "cell_type": "code",
   "execution_count": 3,
   "id": "1bbad8e9",
   "metadata": {},
   "outputs": [],
   "source": [
    "import numpy as np\n",
    "import pandas as pd\n",
    "\n",
    "from sklearn import metrics\n",
    "from sklearn.metrics import confusion_matrix\n"
   ]
  },
  {
   "cell_type": "code",
   "execution_count": 4,
   "id": "8fef7627",
   "metadata": {},
   "outputs": [],
   "source": [
    "import warnings\n",
    "warnings.filterwarnings('ignore')"
   ]
  },
  {
   "cell_type": "code",
   "execution_count": 5,
   "id": "98bc2eb4",
   "metadata": {},
   "outputs": [],
   "source": [
    "data = pd.read_csv('Dataset')"
   ]
  },
  {
   "cell_type": "code",
   "execution_count": 6,
   "id": "ade59a5f",
   "metadata": {},
   "outputs": [
    {
     "data": {
      "text/plain": [
       "Index(['Unnamed: 0.1', 'Unnamed: 0', 'FRUITS_VEGGIES', 'DAILY_STRESS',\n",
       "       'PLACES_VISITED', 'CORE_CIRCLE', 'SUPPORTING_OTHERS', 'SOCIAL_NETWORK',\n",
       "       'ACHIEVEMENT', 'DONATION', 'BMI_RANGE', 'TODO_COMPLETED', 'FLOW',\n",
       "       'DAILY_STEPS', 'LIVE_VISION', 'SLEEP_HOURS', 'LOST_VACATION',\n",
       "       'DAILY_SHOUTING', 'SUFFICIENT_INCOME', 'PERSONAL_AWARDS',\n",
       "       'TIME_FOR_PASSION', 'WEEKLY_MEDITATION', 'GENDER',\n",
       "       'WORK_LIFE_BALANCE_SCORE'],\n",
       "      dtype='object')"
      ]
     },
     "execution_count": 6,
     "metadata": {},
     "output_type": "execute_result"
    }
   ],
   "source": [
    "data.columns"
   ]
  },
  {
   "cell_type": "code",
   "execution_count": 7,
   "id": "1609cf53",
   "metadata": {},
   "outputs": [],
   "source": [
    "data.drop(['DAILY_STRESS','Unnamed: 0.1', 'Unnamed: 0'],axis=1,inplace=True)"
   ]
  },
  {
   "cell_type": "code",
   "execution_count": 8,
   "id": "60acbafd",
   "metadata": {},
   "outputs": [],
   "source": [
    "# rankings_pd.rename(columns = {'test':'TEST'}, inplace = True)\n",
    "data.rename(columns = {'WORK_LIFE_BALANCE_SCORE':'STRESS'}, inplace =True)"
   ]
  },
  {
   "cell_type": "code",
   "execution_count": 9,
   "id": "39cdf8b9",
   "metadata": {},
   "outputs": [
    {
     "data": {
      "text/plain": [
       "FRUITS_VEGGIES       0.452285\n",
       "PLACES_VISITED       0.529641\n",
       "CORE_CIRCLE          0.507567\n",
       "SUPPORTING_OTHERS    0.548900\n",
       "SOCIAL_NETWORK       0.412639\n",
       "ACHIEVEMENT          0.561157\n",
       "DONATION             0.458888\n",
       "BMI_RANGE           -0.252034\n",
       "TODO_COMPLETED       0.545554\n",
       "FLOW                 0.478149\n",
       "DAILY_STEPS          0.422981\n",
       "LIVE_VISION          0.471189\n",
       "SLEEP_HOURS          0.196419\n",
       "LOST_VACATION       -0.266218\n",
       "DAILY_SHOUTING      -0.273109\n",
       "SUFFICIENT_INCOME    0.403569\n",
       "PERSONAL_AWARDS      0.504234\n",
       "TIME_FOR_PASSION     0.516894\n",
       "WEEKLY_MEDITATION    0.416277\n",
       "GENDER              -0.039923\n",
       "STRESS               1.000000\n",
       "Name: STRESS, dtype: float64"
      ]
     },
     "execution_count": 9,
     "metadata": {},
     "output_type": "execute_result"
    }
   ],
   "source": [
    "corr = data.corr()\n",
    "corr['STRESS']"
   ]
  },
  {
   "cell_type": "code",
   "execution_count": 10,
   "id": "040e7917",
   "metadata": {},
   "outputs": [],
   "source": [
    "for ind in range(len(data)):\n",
    "    if data['STRESS'][ind] < 636: \n",
    "        data['STRESS'][ind] = 3\n",
    "    elif data['STRESS'][ind] < 667: \n",
    "        data['STRESS'][ind] = 2\n",
    "    elif data['STRESS'][ind] < 700: \n",
    "        data['STRESS'][ind] = 1\n",
    "    else: \n",
    "        data['STRESS'][ind] = 0"
   ]
  },
  {
   "cell_type": "markdown",
   "id": "9a5d3155",
   "metadata": {},
   "source": [
    "# Preprocessing"
   ]
  },
  {
   "cell_type": "code",
   "execution_count": 11,
   "id": "4e8e3dff",
   "metadata": {},
   "outputs": [
    {
     "data": {
      "text/html": [
       "<div>\n",
       "<style scoped>\n",
       "    .dataframe tbody tr th:only-of-type {\n",
       "        vertical-align: middle;\n",
       "    }\n",
       "\n",
       "    .dataframe tbody tr th {\n",
       "        vertical-align: top;\n",
       "    }\n",
       "\n",
       "    .dataframe thead th {\n",
       "        text-align: right;\n",
       "    }\n",
       "</style>\n",
       "<table border=\"1\" class=\"dataframe\">\n",
       "  <thead>\n",
       "    <tr style=\"text-align: right;\">\n",
       "      <th></th>\n",
       "      <th>FRUITS_VEGGIES</th>\n",
       "      <th>PLACES_VISITED</th>\n",
       "      <th>CORE_CIRCLE</th>\n",
       "      <th>SUPPORTING_OTHERS</th>\n",
       "      <th>SOCIAL_NETWORK</th>\n",
       "      <th>ACHIEVEMENT</th>\n",
       "      <th>DONATION</th>\n",
       "      <th>BMI_RANGE</th>\n",
       "      <th>TODO_COMPLETED</th>\n",
       "      <th>FLOW</th>\n",
       "      <th>DAILY_STEPS</th>\n",
       "      <th>LIVE_VISION</th>\n",
       "      <th>SLEEP_HOURS</th>\n",
       "      <th>LOST_VACATION</th>\n",
       "      <th>DAILY_SHOUTING</th>\n",
       "      <th>SUFFICIENT_INCOME</th>\n",
       "      <th>PERSONAL_AWARDS</th>\n",
       "      <th>TIME_FOR_PASSION</th>\n",
       "      <th>WEEKLY_MEDITATION</th>\n",
       "      <th>GENDER</th>\n",
       "    </tr>\n",
       "  </thead>\n",
       "  <tbody>\n",
       "    <tr>\n",
       "      <th>count</th>\n",
       "      <td>15971.000000</td>\n",
       "      <td>15971.000000</td>\n",
       "      <td>15971.000000</td>\n",
       "      <td>15971.000000</td>\n",
       "      <td>15971.000000</td>\n",
       "      <td>15971.000000</td>\n",
       "      <td>15971.000000</td>\n",
       "      <td>15971.000000</td>\n",
       "      <td>15971.000000</td>\n",
       "      <td>15971.000000</td>\n",
       "      <td>15971.000000</td>\n",
       "      <td>15971.000000</td>\n",
       "      <td>15971.000000</td>\n",
       "      <td>15971.000000</td>\n",
       "      <td>15971.000000</td>\n",
       "      <td>15971.000000</td>\n",
       "      <td>15971.000000</td>\n",
       "      <td>15971.000000</td>\n",
       "      <td>15971.000000</td>\n",
       "      <td>15971.000000</td>\n",
       "    </tr>\n",
       "    <tr>\n",
       "      <th>mean</th>\n",
       "      <td>2.922672</td>\n",
       "      <td>5.233235</td>\n",
       "      <td>5.508296</td>\n",
       "      <td>5.616179</td>\n",
       "      <td>6.474047</td>\n",
       "      <td>4.000689</td>\n",
       "      <td>2.715171</td>\n",
       "      <td>1.410619</td>\n",
       "      <td>5.745977</td>\n",
       "      <td>3.194477</td>\n",
       "      <td>5.703588</td>\n",
       "      <td>3.752176</td>\n",
       "      <td>7.042953</td>\n",
       "      <td>2.898441</td>\n",
       "      <td>2.931000</td>\n",
       "      <td>1.728946</td>\n",
       "      <td>5.711289</td>\n",
       "      <td>3.326279</td>\n",
       "      <td>6.233611</td>\n",
       "      <td>0.382756</td>\n",
       "    </tr>\n",
       "    <tr>\n",
       "      <th>std</th>\n",
       "      <td>1.442739</td>\n",
       "      <td>3.311847</td>\n",
       "      <td>2.840287</td>\n",
       "      <td>3.241937</td>\n",
       "      <td>3.086643</td>\n",
       "      <td>2.755912</td>\n",
       "      <td>1.851556</td>\n",
       "      <td>0.491962</td>\n",
       "      <td>2.624179</td>\n",
       "      <td>2.357285</td>\n",
       "      <td>2.891102</td>\n",
       "      <td>3.231083</td>\n",
       "      <td>1.199053</td>\n",
       "      <td>3.691867</td>\n",
       "      <td>2.676341</td>\n",
       "      <td>0.444518</td>\n",
       "      <td>3.089540</td>\n",
       "      <td>2.729128</td>\n",
       "      <td>3.016479</td>\n",
       "      <td>0.486075</td>\n",
       "    </tr>\n",
       "    <tr>\n",
       "      <th>min</th>\n",
       "      <td>0.000000</td>\n",
       "      <td>0.000000</td>\n",
       "      <td>0.000000</td>\n",
       "      <td>0.000000</td>\n",
       "      <td>0.000000</td>\n",
       "      <td>0.000000</td>\n",
       "      <td>0.000000</td>\n",
       "      <td>1.000000</td>\n",
       "      <td>0.000000</td>\n",
       "      <td>0.000000</td>\n",
       "      <td>1.000000</td>\n",
       "      <td>0.000000</td>\n",
       "      <td>1.000000</td>\n",
       "      <td>0.000000</td>\n",
       "      <td>0.000000</td>\n",
       "      <td>1.000000</td>\n",
       "      <td>0.000000</td>\n",
       "      <td>0.000000</td>\n",
       "      <td>0.000000</td>\n",
       "      <td>0.000000</td>\n",
       "    </tr>\n",
       "    <tr>\n",
       "      <th>25%</th>\n",
       "      <td>2.000000</td>\n",
       "      <td>2.000000</td>\n",
       "      <td>3.000000</td>\n",
       "      <td>3.000000</td>\n",
       "      <td>4.000000</td>\n",
       "      <td>2.000000</td>\n",
       "      <td>1.000000</td>\n",
       "      <td>1.000000</td>\n",
       "      <td>4.000000</td>\n",
       "      <td>1.000000</td>\n",
       "      <td>3.000000</td>\n",
       "      <td>1.000000</td>\n",
       "      <td>6.000000</td>\n",
       "      <td>0.000000</td>\n",
       "      <td>1.000000</td>\n",
       "      <td>1.000000</td>\n",
       "      <td>3.000000</td>\n",
       "      <td>1.000000</td>\n",
       "      <td>4.000000</td>\n",
       "      <td>0.000000</td>\n",
       "    </tr>\n",
       "    <tr>\n",
       "      <th>50%</th>\n",
       "      <td>3.000000</td>\n",
       "      <td>5.000000</td>\n",
       "      <td>5.000000</td>\n",
       "      <td>5.000000</td>\n",
       "      <td>6.000000</td>\n",
       "      <td>3.000000</td>\n",
       "      <td>3.000000</td>\n",
       "      <td>1.000000</td>\n",
       "      <td>6.000000</td>\n",
       "      <td>3.000000</td>\n",
       "      <td>5.000000</td>\n",
       "      <td>3.000000</td>\n",
       "      <td>7.000000</td>\n",
       "      <td>0.000000</td>\n",
       "      <td>2.000000</td>\n",
       "      <td>2.000000</td>\n",
       "      <td>5.000000</td>\n",
       "      <td>3.000000</td>\n",
       "      <td>7.000000</td>\n",
       "      <td>0.000000</td>\n",
       "    </tr>\n",
       "    <tr>\n",
       "      <th>75%</th>\n",
       "      <td>4.000000</td>\n",
       "      <td>8.000000</td>\n",
       "      <td>8.000000</td>\n",
       "      <td>9.500000</td>\n",
       "      <td>10.000000</td>\n",
       "      <td>6.000000</td>\n",
       "      <td>5.000000</td>\n",
       "      <td>2.000000</td>\n",
       "      <td>8.000000</td>\n",
       "      <td>5.000000</td>\n",
       "      <td>8.000000</td>\n",
       "      <td>5.000000</td>\n",
       "      <td>8.000000</td>\n",
       "      <td>5.000000</td>\n",
       "      <td>4.000000</td>\n",
       "      <td>2.000000</td>\n",
       "      <td>9.000000</td>\n",
       "      <td>5.000000</td>\n",
       "      <td>10.000000</td>\n",
       "      <td>1.000000</td>\n",
       "    </tr>\n",
       "    <tr>\n",
       "      <th>max</th>\n",
       "      <td>5.000000</td>\n",
       "      <td>10.000000</td>\n",
       "      <td>10.000000</td>\n",
       "      <td>10.000000</td>\n",
       "      <td>10.000000</td>\n",
       "      <td>10.000000</td>\n",
       "      <td>5.000000</td>\n",
       "      <td>2.000000</td>\n",
       "      <td>10.000000</td>\n",
       "      <td>10.000000</td>\n",
       "      <td>10.000000</td>\n",
       "      <td>10.000000</td>\n",
       "      <td>10.000000</td>\n",
       "      <td>10.000000</td>\n",
       "      <td>10.000000</td>\n",
       "      <td>2.000000</td>\n",
       "      <td>10.000000</td>\n",
       "      <td>10.000000</td>\n",
       "      <td>10.000000</td>\n",
       "      <td>1.000000</td>\n",
       "    </tr>\n",
       "  </tbody>\n",
       "</table>\n",
       "</div>"
      ],
      "text/plain": [
       "       FRUITS_VEGGIES  PLACES_VISITED   CORE_CIRCLE  SUPPORTING_OTHERS  \\\n",
       "count    15971.000000    15971.000000  15971.000000       15971.000000   \n",
       "mean         2.922672        5.233235      5.508296           5.616179   \n",
       "std          1.442739        3.311847      2.840287           3.241937   \n",
       "min          0.000000        0.000000      0.000000           0.000000   \n",
       "25%          2.000000        2.000000      3.000000           3.000000   \n",
       "50%          3.000000        5.000000      5.000000           5.000000   \n",
       "75%          4.000000        8.000000      8.000000           9.500000   \n",
       "max          5.000000       10.000000     10.000000          10.000000   \n",
       "\n",
       "       SOCIAL_NETWORK   ACHIEVEMENT      DONATION     BMI_RANGE  \\\n",
       "count    15971.000000  15971.000000  15971.000000  15971.000000   \n",
       "mean         6.474047      4.000689      2.715171      1.410619   \n",
       "std          3.086643      2.755912      1.851556      0.491962   \n",
       "min          0.000000      0.000000      0.000000      1.000000   \n",
       "25%          4.000000      2.000000      1.000000      1.000000   \n",
       "50%          6.000000      3.000000      3.000000      1.000000   \n",
       "75%         10.000000      6.000000      5.000000      2.000000   \n",
       "max         10.000000     10.000000      5.000000      2.000000   \n",
       "\n",
       "       TODO_COMPLETED          FLOW   DAILY_STEPS   LIVE_VISION   SLEEP_HOURS  \\\n",
       "count    15971.000000  15971.000000  15971.000000  15971.000000  15971.000000   \n",
       "mean         5.745977      3.194477      5.703588      3.752176      7.042953   \n",
       "std          2.624179      2.357285      2.891102      3.231083      1.199053   \n",
       "min          0.000000      0.000000      1.000000      0.000000      1.000000   \n",
       "25%          4.000000      1.000000      3.000000      1.000000      6.000000   \n",
       "50%          6.000000      3.000000      5.000000      3.000000      7.000000   \n",
       "75%          8.000000      5.000000      8.000000      5.000000      8.000000   \n",
       "max         10.000000     10.000000     10.000000     10.000000     10.000000   \n",
       "\n",
       "       LOST_VACATION  DAILY_SHOUTING  SUFFICIENT_INCOME  PERSONAL_AWARDS  \\\n",
       "count   15971.000000    15971.000000       15971.000000     15971.000000   \n",
       "mean        2.898441        2.931000           1.728946         5.711289   \n",
       "std         3.691867        2.676341           0.444518         3.089540   \n",
       "min         0.000000        0.000000           1.000000         0.000000   \n",
       "25%         0.000000        1.000000           1.000000         3.000000   \n",
       "50%         0.000000        2.000000           2.000000         5.000000   \n",
       "75%         5.000000        4.000000           2.000000         9.000000   \n",
       "max        10.000000       10.000000           2.000000        10.000000   \n",
       "\n",
       "       TIME_FOR_PASSION  WEEKLY_MEDITATION        GENDER  \n",
       "count      15971.000000       15971.000000  15971.000000  \n",
       "mean           3.326279           6.233611      0.382756  \n",
       "std            2.729128           3.016479      0.486075  \n",
       "min            0.000000           0.000000      0.000000  \n",
       "25%            1.000000           4.000000      0.000000  \n",
       "50%            3.000000           7.000000      0.000000  \n",
       "75%            5.000000          10.000000      1.000000  \n",
       "max           10.000000          10.000000      1.000000  "
      ]
     },
     "execution_count": 11,
     "metadata": {},
     "output_type": "execute_result"
    }
   ],
   "source": [
    "x = data.drop('STRESS',axis=1)\n",
    "y = data['STRESS']\n",
    "\n",
    "x.describe()"
   ]
  },
  {
   "cell_type": "markdown",
   "id": "99a66fae",
   "metadata": {},
   "source": [
    "**Checking which attribute is the cause**"
   ]
  },
  {
   "cell_type": "code",
   "execution_count": 12,
   "id": "85dd1bd4",
   "metadata": {},
   "outputs": [],
   "source": [
    "desc = x.describe()\n",
    "desc = desc.to_numpy()\n",
    "bare_min = desc[4]\n",
    "mean = desc[1]\n",
    "# x.shape\n",
    "\n",
    "demo = x.to_numpy()[2]"
   ]
  },
  {
   "cell_type": "code",
   "execution_count": 13,
   "id": "d76fa320",
   "metadata": {},
   "outputs": [
    {
     "name": "stdout",
     "output_type": "stream",
     "text": [
      "[ 0.  1.  1.  1.  6.  1.  1.  1. -2.  1.  1.  4.  2. 10.  1.  1.  1.  7.\n",
      " -1.  0.]\n"
     ]
    }
   ],
   "source": [
    "res = demo - bare_min\n",
    "print(res)\n",
    "res_idx = []\n",
    "\n",
    "for idx in range(20):\n",
    "    if res[idx]<0:\n",
    "        res_idx.append(idx)"
   ]
  },
  {
   "cell_type": "code",
   "execution_count": 14,
   "id": "7073a518",
   "metadata": {},
   "outputs": [
    {
     "name": "stdout",
     "output_type": "stream",
     "text": [
      "[8, 18]\n",
      "[2.92267234 5.23323524 5.50829629 5.61617933 6.47404671 4.00068875\n",
      " 2.71517125 1.41061925 5.74597708 3.19447749 5.70358775 3.75217582\n",
      " 7.04295285 2.89844092 2.93099994 1.72894622 5.71128921 3.32627888\n",
      " 6.23361092 0.38275625]\n"
     ]
    }
   ],
   "source": [
    "print(res_idx)\n",
    "print(mean)"
   ]
  },
  {
   "cell_type": "code",
   "execution_count": 15,
   "id": "ca83985f",
   "metadata": {},
   "outputs": [
    {
     "data": {
      "text/plain": [
       "((11978, 20), (3993, 20))"
      ]
     },
     "execution_count": 15,
     "metadata": {},
     "output_type": "execute_result"
    }
   ],
   "source": [
    "from sklearn.model_selection import train_test_split\n",
    "\n",
    "x_train, x_test, y_train, y_test = train_test_split(x, y, test_size = 0.25, random_state=42)\n",
    "x_train.shape, x_test.shape"
   ]
  },
  {
   "cell_type": "code",
   "execution_count": 16,
   "id": "f8c46ae0",
   "metadata": {},
   "outputs": [],
   "source": [
    "from sklearn.preprocessing import StandardScaler\n",
    "sc_x = StandardScaler()\n",
    "x_train = sc_x.fit_transform(x_train) \n",
    "x_test = sc_x.transform(x_test)"
   ]
  },
  {
   "cell_type": "markdown",
   "id": "09c67f28",
   "metadata": {},
   "source": [
    "# SVM"
   ]
  },
  {
   "cell_type": "code",
   "execution_count": 17,
   "id": "005bdf45",
   "metadata": {},
   "outputs": [],
   "source": [
    "from sklearn.svm import SVC"
   ]
  },
  {
   "cell_type": "code",
   "execution_count": 18,
   "id": "8844a87c",
   "metadata": {},
   "outputs": [
    {
     "name": "stdout",
     "output_type": "stream",
     "text": [
      "[[908  48   0   0]\n",
      " [ 46 954  70   0]\n",
      " [  0  54 896  39]\n",
      " [  0   0  54 924]]\n",
      "0.922113698973203\n"
     ]
    }
   ],
   "source": [
    "clf = SVC(kernel='linear') \n",
    "clf.fit(x_train, y_train)\n",
    "y_pred = clf.predict(x_test)\n",
    "\n",
    "cm = confusion_matrix(y_test,y_pred)\n",
    "print(cm)\n",
    "\n",
    "score = clf.score(x_test,y_test)\n",
    "print(score)"
   ]
  },
  {
   "cell_type": "code",
   "execution_count": 19,
   "id": "1bdbea9f",
   "metadata": {},
   "outputs": [
    {
     "data": {
      "text/plain": [
       "<Figure size 900x900 with 0 Axes>"
      ]
     },
     "metadata": {},
     "output_type": "display_data"
    },
    {
     "data": {
      "image/png": "[encoded data removed]",
      "text/plain": [
       "<Figure size 640x480 with 2 Axes>"
      ]
     },
     "metadata": {},
     "output_type": "display_data"
    }
   ],
   "source": [
    "import matplotlib.pyplot as plt\n",
    "cm_display = metrics.ConfusionMatrixDisplay(confusion_matrix = cm)\n",
    "plt.figure(figsize = (9,9))\n",
    "cm_display.plot()\n",
    "plt.show()"
   ]
  },
  {
   "cell_type": "code",
   "execution_count": 20,
   "id": "86f0ef71",
   "metadata": {},
   "outputs": [
    {
     "data": {
      "text/plain": [
       "0.9230794937924027"
      ]
     },
     "execution_count": 20,
     "metadata": {},
     "output_type": "execute_result"
    }
   ],
   "source": [
    "from sklearn.metrics import f1_score\n",
    "f1_score(y_test, y_pred, average='macro')"
   ]
  },
  {
   "cell_type": "code",
   "execution_count": 21,
   "id": "82dc90e5",
   "metadata": {},
   "outputs": [
    {
     "data": {
      "text/plain": [
       "['svm_model.pkl']"
      ]
     },
     "execution_count": 21,
     "metadata": {},
     "output_type": "execute_result"
    }
   ],
   "source": [
    "import joblib\n",
    "joblib.dump(clf, 'svm_model.pkl')"
   ]
  }
 ],
 "metadata": {
  "kernelspec": {
   "display_name": "Python 3 (ipykernel)",
   "language": "python",
   "name": "python3"
  },
  "language_info": {
   "codemirror_mode": {
    "name": "ipython",
    "version": 3
   },
   "file_extension": ".py",
   "mimetype": "text/x-python",
   "name": "python",
   "nbconvert_exporter": "python",
   "pygments_lexer": "ipython3",
   "version": "3.10.0"
  }
 },
 "nbformat": 4,
 "nbformat_minor": 5
}
